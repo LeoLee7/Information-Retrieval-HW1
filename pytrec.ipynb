{
 "cells": [
  {
   "cell_type": "code",
   "execution_count": null,
   "metadata": {},
   "outputs": [],
   "source": [
    "import pytrec_eval\n",
    "\n",
    "# read the result file and create a dictionary of the form {query_id: {document_id: score}}\n",
    "results = {}\n",
    "with open('/content/tf_idf_result.txt', 'r') as f:\n",
    "    for line in f:\n",
    "        qid, _, docid, _, score, _ = line.strip().split()\n",
    "        if qid not in results:\n",
    "            results[qid] = {}\n",
    "        results[qid][docid] = float(score)\n",
    "\n",
    "# read the qrels file and create a dictionary of the form {query_id: {document_id: relevance_score}}\n",
    "qrels = {}\n",
    "with open('/content/qrels.ohsu.88-91.txt', 'r') as f:\n",
    "    for line in f:\n",
    "        qid, _, docid, rel = line.strip().split()\n",
    "        if qid not in qrels:\n",
    "            qrels[qid] = {}\n",
    "        qrels[qid][docid] = int(rel)\n",
    "\n",
    "# create an evaluator and compute the evaluation metrics\n",
    "evaluator = pytrec_eval.RelevanceEvaluator(qrels, {'P_50'})\n",
    "metrics = evaluator.evaluate(results)\n",
    "print(metrics)\n"
   ]
  }
 ],
 "metadata": {
  "language_info": {
   "name": "python"
  },
  "orig_nbformat": 4
 },
 "nbformat": 4,
 "nbformat_minor": 2
}
